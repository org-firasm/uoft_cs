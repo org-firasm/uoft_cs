{
 "cells": [
  {
   "cell_type": "markdown",
   "id": "35e71b9d-d4df-4e1f-bf58-8ad69c68de77",
   "metadata": {
    "tags": [],
    "user_expressions": []
   },
   "source": [
    "# Lab 1\n",
    "\n",
    "This is a sample set of questions you should be able to do after the class on classification with the kNN alogrithm.\n",
    "You will be guided through parts of this activity and be given hints and suggestions on how to approach the problems.\n",
    "\n",
    "## Objectives\n",
    "\n",
    "1. Practice creating a kNN model with data from the class example.\n",
    "2. Develop some intuition about testing and training accuracy.\n",
    "3. Consider the tradeoffs between testing and training accuracy when choosing $k$.\n",
    "\n",
    "## Specifications\n",
    "\n",
    "1. The notebook should be tidy, well-organized, and all questions should be answered correctly.\n",
    "2. It should be intuitive what your code is doing, or there should be comments providing an explanation.\n",
    "3. All visualizations should be well-titled, labeled, and be styled as per MDS expectations.\n",
    "4. Insight and explanations should be provided for all reflection questions."
   ]
  },
  {
   "cell_type": "markdown",
   "id": "40f82cae-2c02-41b9-bd70-9a270200930e",
   "metadata": {
    "user_expressions": []
   },
   "source": [
    "## Function imports"
   ]
  },
  {
   "cell_type": "code",
   "execution_count": 123,
   "id": "9e7df1b2-5e60-420b-9063-f764aaf62ff0",
   "metadata": {
    "tags": []
   },
   "outputs": [],
   "source": [
    "import altair as alt\n",
    "import pandas as pd\n",
    "import seaborn as sns\n",
    "import matplotlib.pyplot as plt\n",
    "\n",
    "sns.set_theme(style=\"darkgrid\")\n",
    "\n",
    "from sklearn.neighbors import KNeighborsClassifier as KNN\n",
    "from sklearn.metrics import accuracy_score\n",
    "from sklearn.preprocessing import StandardScaler"
   ]
  },
  {
   "cell_type": "markdown",
   "id": "078118c7-11ea-4b4e-9430-0ec836d1b901",
   "metadata": {
    "tags": [],
    "user_expressions": []
   },
   "source": [
    "## Task 1: Choosing the right $k$ value\n",
    "\n",
    "When we setup our classifier, we can control the $k$ value, which sets the number of neighbours the $k$NN algorithm should consider.\n",
    "To choose an ideal $k$ value, we need to optimize the hyperparameter $k$ - we can do this by running the classification a bunch of times and and consider the tradeoffs between bias (training error) and variance (testing error). See [here](https://medium.com/30-days-of-machine-learning/day-3-k-nearest-neighbors-and-bias-variance-tradeoff-75f84d515bdb) for a nice discussion of this.\n",
    "\n",
    "### Task 1.1 Load the data and setup a classifier with $k=9$.\n",
    "\n",
    "Use the same training data and increase the number of \"neighbours\", or the $k$ value."
   ]
  },
  {
   "cell_type": "code",
   "execution_count": 124,
   "id": "ea5efd21-7e85-4e7e-9f2f-0da597bd40cc",
   "metadata": {
    "tags": []
   },
   "outputs": [],
   "source": [
    "# Your Solution here\n",
    "\n",
    "train = pd.read_csv(\"data/train.csv\")\n",
    "test = pd.read_csv(\"data/test.csv\")\n",
    "scaler = StandardScaler().set_output(transform=\"pandas\")\n",
    "scaler.fit(train[[\"vertices\", \"dots\", \"blob\"]])\n",
    "train_s = scaler.transform(train[[\"vertices\", \"dots\", \"blob\"]])\n",
    "test_s = scaler.transform(test[[\"vertices\", \"dots\", \"blob\"]])\n",
    "\n",
    "classifier = KNN(n_neighbors=9, metric=\"euclidean\")\n",
    "\n",
    "classifier.fit(X=train_s[[\"vertices\", \"dots\", \"blob\"]], y=train[\"stroke\"])\n",
    "\n",
    "train_predictions = classifier.predict(train_s[[\"vertices\", \"dots\", \"blob\"]])"
   ]
  },
  {
   "cell_type": "markdown",
   "id": "8f22bd45-f6aa-41c4-94f4-de41abc0ab70",
   "metadata": {
    "tags": [],
    "user_expressions": []
   },
   "source": [
    "### Task 1.2: Use `sklearn.metrics.accuracy_score` to compute the training and test data accuracy of the new model."
   ]
  },
  {
   "cell_type": "code",
   "execution_count": 125,
   "id": "02db0097-3539-43fb-8728-3845c51f6d49",
   "metadata": {
    "tags": []
   },
   "outputs": [
    {
     "data": {
      "text/plain": [
       "'The Training accuracy is: 70.1 %!'"
      ]
     },
     "execution_count": 125,
     "metadata": {},
     "output_type": "execute_result"
    }
   ],
   "source": [
    "# Your Solution here\n",
    "\n",
    "f\"The Training accuracy is: { 100*accuracy_score(train['stroke'], train_predictions):.1f} %!\""
   ]
  },
  {
   "cell_type": "code",
   "execution_count": 126,
   "id": "4fccf2ec-d7fa-47b5-94b8-b69ad471bda1",
   "metadata": {
    "tags": []
   },
   "outputs": [
    {
     "data": {
      "text/plain": [
       "'The Training accuracy is: 66.1 %!'"
      ]
     },
     "execution_count": 126,
     "metadata": {},
     "output_type": "execute_result"
    }
   ],
   "source": [
    "# Your Solution here\n",
    "\n",
    "test_predictions = classifier.predict(test_s[[\"vertices\", \"dots\", \"blob\"]])\n",
    "accuracy_score(test[\"stroke\"], test_predictions)\n",
    "\n",
    "f\"The Training accuracy is: { 100*accuracy_score(test['stroke'], test_predictions):.1f} %!\""
   ]
  },
  {
   "cell_type": "markdown",
   "id": "fb6a6c31-0b3c-4f61-8a5a-18e0aacddd0d",
   "metadata": {
    "tags": [],
    "user_expressions": []
   },
   "source": [
    "### Task 1.3: Do this classification for many $k$ values between 1 to 500\n",
    "\n",
    "You should construct a dataframe where each row contains the $k$ value, the training accuracy and the test accuracy."
   ]
  },
  {
   "cell_type": "code",
   "execution_count": 127,
   "id": "94d27fae-673c-4fe3-82e8-78422bd024eb",
   "metadata": {
    "tags": []
   },
   "outputs": [
    {
     "data": {
      "text/html": [
       "<div>\n",
       "<style scoped>\n",
       "    .dataframe tbody tr th:only-of-type {\n",
       "        vertical-align: middle;\n",
       "    }\n",
       "\n",
       "    .dataframe tbody tr th {\n",
       "        vertical-align: top;\n",
       "    }\n",
       "\n",
       "    .dataframe thead th {\n",
       "        text-align: right;\n",
       "    }\n",
       "</style>\n",
       "<table border=\"1\" class=\"dataframe\">\n",
       "  <thead>\n",
       "    <tr style=\"text-align: right;\">\n",
       "      <th></th>\n",
       "      <th>k-value</th>\n",
       "      <th>train_accuracy</th>\n",
       "      <th>test_accuracy</th>\n",
       "    </tr>\n",
       "  </thead>\n",
       "  <tbody>\n",
       "    <tr>\n",
       "      <th>0</th>\n",
       "      <td>1</td>\n",
       "      <td>0.680957</td>\n",
       "      <td>0.607008</td>\n",
       "    </tr>\n",
       "    <tr>\n",
       "      <th>1</th>\n",
       "      <td>2</td>\n",
       "      <td>0.660587</td>\n",
       "      <td>0.610795</td>\n",
       "    </tr>\n",
       "    <tr>\n",
       "      <th>2</th>\n",
       "      <td>3</td>\n",
       "      <td>0.697774</td>\n",
       "      <td>0.631629</td>\n",
       "    </tr>\n",
       "    <tr>\n",
       "      <th>3</th>\n",
       "      <td>4</td>\n",
       "      <td>0.697537</td>\n",
       "      <td>0.647727</td>\n",
       "    </tr>\n",
       "    <tr>\n",
       "      <th>4</th>\n",
       "      <td>5</td>\n",
       "      <td>0.702511</td>\n",
       "      <td>0.650568</td>\n",
       "    </tr>\n",
       "  </tbody>\n",
       "</table>\n",
       "</div>"
      ],
      "text/plain": [
       "   k-value  train_accuracy  test_accuracy\n",
       "0        1        0.680957       0.607008\n",
       "1        2        0.660587       0.610795\n",
       "2        3        0.697774       0.631629\n",
       "3        4        0.697537       0.647727\n",
       "4        5        0.702511       0.650568"
      ]
     },
     "execution_count": 127,
     "metadata": {},
     "output_type": "execute_result"
    }
   ],
   "source": [
    "# Your Solution here\n",
    "\n",
    "results_dict = []\n",
    "\n",
    "for i in range(1, 100):\n",
    "\n",
    "    classifier = KNN(n_neighbors=i, metric=\"euclidean\")\n",
    "    classifier.fit(X=train_s[[\"vertices\", \"dots\", \"blob\"]], y=train[\"stroke\"])\n",
    "    train_predictions = classifier.predict(train_s[[\"vertices\", \"dots\", \"blob\"]])\n",
    "    test_predictions = classifier.predict(test_s[[\"vertices\", \"dots\", \"blob\"]])\n",
    "\n",
    "    results_dict.append(\n",
    "        {\n",
    "            \"k-value\": i,\n",
    "            \"train_accuracy\": accuracy_score(train[\"stroke\"], train_predictions),\n",
    "            \"test_accuracy\": accuracy_score(test[\"stroke\"], test_predictions),\n",
    "        }\n",
    "    )\n",
    "\n",
    "kdf = pd.DataFrame.from_dict(results_dict)\n",
    "\n",
    "kdf.head()"
   ]
  },
  {
   "cell_type": "markdown",
   "id": "e845ad3f-64fd-48f5-84d8-ba9c5b6e113d",
   "metadata": {
    "user_expressions": []
   },
   "source": [
    "### Task 1.4 Plot the accuracy vs. $k$\n",
    "\n",
    "The plot and the analysis here should help you see that our classifier is not behaving well - why do you think that is?\n",
    "\n",
    "> Hint: refer back to the visualization of the data from the class notes! This is happening likely because there exists several cases where data points with the same features are categorized by `1` and `0`!"
   ]
  },
  {
   "cell_type": "code",
   "execution_count": 128,
   "id": "38e80d10-5b00-4b7e-8b14-f42fff103260",
   "metadata": {
    "tags": []
   },
   "outputs": [
    {
     "data": {
      "text/plain": [
       "Text(0.5, 1.0, 'Testing and Training Accuracy vs. $k$')"
      ]
     },
     "execution_count": 128,
     "metadata": {},
     "output_type": "execute_result"
    },
    {
     "data": {
      "image/png": "[encoded data removed]",
      "text/plain": [
       "<Figure size 640x480 with 1 Axes>"
      ]
     },
     "metadata": {},
     "output_type": "display_data"
    }
   ],
   "source": [
    "# Your Solution here\n",
    "\n",
    "# Plot the accuracy vs. $k$\n",
    "kdf_melted = kdf.melt(id_vars=\"k-value\")\n",
    "sns.lineplot(kdf_melted, x=\"k-value\", y=\"value\", hue=\"variable\")\n",
    "plt.ylabel(\"Accuracy\")\n",
    "plt.title(\"Testing and Training Accuracy vs. $k$\")"
   ]
  },
  {
   "cell_type": "markdown",
   "id": "f58325e9-2a93-4878-9401-d65d31031dd7",
   "metadata": {
    "user_expressions": []
   },
   "source": [
    "### Task 1.5. For which $k$ value is the test and train accuracy highest?"
   ]
  },
  {
   "cell_type": "code",
   "execution_count": 129,
   "id": "634d69f7-4e4a-4f6c-85f6-1c6c6a114e23",
   "metadata": {
    "tags": []
   },
   "outputs": [
    {
     "name": "stdout",
     "output_type": "stream",
     "text": [
      "Training Accuracy is highest when k = 5 \n",
      " Testing Accuracy is highest when k = 38\n"
     ]
    }
   ],
   "source": [
    "# Your Solution here\n",
    "\n",
    "print(\n",
    "    f\"Training Accuracy is highest when k = {int(kdf.loc[kdf['train_accuracy'].idxmax()]['k-value'])}\",\n",
    "    \"\\n\",\n",
    "    f\"Testing Accuracy is highest when k = {int(kdf.loc[kdf['test_accuracy'].idxmax()]['k-value'])}\",\n",
    ")"
   ]
  },
  {
   "cell_type": "markdown",
   "id": "99951369-941d-4e5f-a099-cc16f0752a3d",
   "metadata": {
    "user_expressions": []
   },
   "source": [
    "## Task 2: Beyond Accuracy\n",
    "\n",
    "So far we've only looked at \"accuracy\" as a metric to evaluate our models.\n",
    "Starting next class, we'll be looking at other metrics for evaluating the quality of our machine learning models.\n",
    "To prepare that, brainstorm aspects that you think would be useful to consider in evaluating model quality.\n",
    "You don't have to \"define\" the metrics mathematically, but I do want you to think (for instance) about things like the impacts of a model successfully predicting an output, and the consequences when a model incorrectly predicts an output.\n",
    "\n",
    "Answer in 5-7 sentences and be sure to cite any sources you use or find while you explore this topic."
   ]
  },
  {
   "cell_type": "code",
   "execution_count": null,
   "id": "d26da5d9-3dfb-4c94-a832-76acc4d1b0b0",
   "metadata": {},
   "outputs": [],
   "source": [
    "# Your solution here"
   ]
  },
  {
   "cell_type": "markdown",
   "id": "49a67aa5-4dfb-4ca7-b365-4d0d8da20cd6",
   "metadata": {
    "user_expressions": []
   },
   "source": [
    "## Lab submission instructions\n",
    "\n",
    "*Usual lab instructions on submitting are here.*\n",
    "\n",
    "## Grading Scheme (NEW!)\n",
    "\n",
    "Many of you are familiar with the \"Traditional Grading\" model that is in place in most courses.\n",
    "Briefly, this model involves earning (or losing) points on individual assessments throughout the course, and then a grade calculated by doing a \"weighted-average\" throughout the term.\n",
    "\n",
    "You may be surprised to learn that this is not the only way classes can be structured, and there are alternative models that research has shown to be far better for learning, motivation, attitudes, and long-term benefit.\n",
    "If you're interested in learning more details about the last sentence (and if it surprises you), I encourage you to [check out this very accessible paper](https://www.lifescied.org/doi/full/10.1187/cbe.cbe-14-03-0054) from Schinske and Tanner.\n",
    "\n",
    "I am not quite ready to fully move away from Traditional Grading yet (mostly because of a lack of resources, otherwise I'm totally all-in!) but I'd like to experiment with a modified version of Specifications-Grading here in this course.\n",
    "I'd love to hear your feedback on it!\n",
    "Here are some [key features](https://twitter.com/siwelwerd/status/1472940473924960261) of Specifications Grading:\n",
    "\n",
    "- Each assignment is accompanied with a clear list of \"specifications\" of what constitutes acceptable work at each level.\n",
    "- Assignments are marked based on whether students have met each of the specifications for that assignment.\n",
    "- Students are given multiple opportunities to revise their work to demonstrate their learning.\n",
    "\n",
    "In this course, the image below shows a handy guide to help you understand this grading system: \n",
    "\n",
    "<img src=\"imgs/specifications_rubric.png\" width=\"100%\">\n",
    "\n",
    "I prefer **not** to associate percentages or grades to the levels (I personally feel that this hampers your learning and poisons motivation and creativity), but I know that it will take us some time to eliminate grades completely.\n",
    "If you must think of things in terms of numbers and percentages, you can expand the box below to see my best guess of what each level translates into.\n",
    "\n",
    "- The **E**, or \"Excellent\" level is about 100%.\n",
    "- The **G**, or \"Good\" level is about 85%.\n",
    "- The **R**, or \"Revision Required\"  level is < 50%.\n",
    "- The **I** or \"Incomplete\" level is not associated with a number because it was not graded.\n",
    "\n",
    "### Resubmission Policy\n",
    "\n",
    "This term, you will be able to resubmit your work up to a maximum of 2 times after you have received feedback.\n",
    "Each time you do a resubmission, you will first need to reflect on your initial submission, and discuss how you corrected your work after receiving feedback from the TAs.\n",
    "\n",
    "Your resubmission request can be submitted on Ed Discussion but we reserve the right to decline your resubmission if the quality and depth of your reflection is not up to our specifications."
   ]
  },
  {
   "cell_type": "code",
   "execution_count": null,
   "id": "a9bb9e2a-9440-464a-89c8-7af089ac789c",
   "metadata": {},
   "outputs": [],
   "source": []
  }
 ],
 "metadata": {
  "kernelspec": {
   "display_name": "Python 3 (ipykernel)",
   "language": "python",
   "name": "python3"
  },
  "language_info": {
   "codemirror_mode": {
    "name": "ipython",
    "version": 3
   },
   "file_extension": ".py",
   "mimetype": "text/x-python",
   "name": "python",
   "nbconvert_exporter": "python",
   "pygments_lexer": "ipython3",
   "version": "3.10.2"
  }
 },
 "nbformat": 4,
 "nbformat_minor": 5
}
