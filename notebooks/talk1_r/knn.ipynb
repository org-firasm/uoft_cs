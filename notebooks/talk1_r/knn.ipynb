{
 "cells": [
  {
   "cell_type": "markdown",
   "id": "9e2daaba-de24-46b9-9f32-3bd18de4729d",
   "metadata": {
    "user_expressions": []
   },
   "source": [
    "# Classification using Machine Learning and the kNN algorithm\n",
    "\n",
    "\n",
    "<img src=\"imgs/brain_learning.jpg\">\n",
    "\n",
    "<p style=\"text-align:left;\">\n",
    "    <a href=\"https://pixabay.com/illustrations/brain-chip-neurons-machine-learning-6010961/\">Photo Credit: Pixabay</a><br>\n",
    "    <span style=\"float:right;\">\n",
    "        April 5, 2023<br>\n",
    "        Firas Moosvi\n",
    "    </span>\n",
    "</p>"
   ]
  },
  {
   "cell_type": "code",
   "execution_count": 12,
   "id": "fb784e7c",
   "metadata": {
    "slideshow": {
     "slide_type": "skip"
    },
    "tags": [
     "remove-cell"
    ]
   },
   "outputs": [],
   "source": [
    "from pandas import *\n",
    "from altair import *\n",
    "from sklearn.neighbors import KNeighborsClassifier as KNN\n",
    "from sklearn.metrics import accuracy_score\n",
    "from sklearn.preprocessing import StandardScaler\n",
    "\n",
    "\n",
    "def check_accuracy(*kwargs):\n",
    "\n",
    "    score = accuracy_score(*kwargs)\n",
    "\n",
    "    print(f\"The model accuracy is {score:.1%}.\")\n",
    "\n",
    "\n",
    "trial = read_csv(\"data/trial_data.csv\")\n",
    "\n",
    "chart_trial = (\n",
    "    Chart(trial)\n",
    "    .mark_circle(size=50)\n",
    "    .encode(\n",
    "        X(\"dots:Q\", title=\"Dots\"),\n",
    "        Y(\"vertices:Q\", title=\"Number of Vertices\"),\n",
    "        Color(\"stroke:N\", title=\"\", legend=None),\n",
    "    )\n",
    "    .properties(\n",
    "        title=\"Classifying a shape as Group 1 (Orange) or Group 0 (Blue)\",\n",
    "        width=600,\n",
    "        height=250,\n",
    "    )\n",
    "    .configure_title(anchor=\"start\", fontSize=24)\n",
    ").configure_axis(labelFontSize=16, titleFontSize=20)"
   ]
  },
  {
   "cell_type": "markdown",
   "id": "8c114734-4b99-471f-9b3b-aede92edfcf0",
   "metadata": {
    "@deathbeds/jupyterlab-fonts": {
     "styles": {
      "": {
       "body[data-jp-deck-mode='presenting'] &": {
        "height": "68.73399077868852%",
        "left": "2.171947337962963%",
        "position": "fixed",
        "top": "15.633004610655737%",
        "width": "84.79275173611111%"
       }
      }
     }
    },
    "slideshow": {
     "slide_type": "slide"
    },
    "tags": [],
    "user_expressions": []
   },
   "source": [
    "## Learning Context (3 mins)\n",
    "\n",
    "<img src=\"imgs/avatars.jpg\" width=50% align=\"center\">"
   ]
  },
  {
   "cell_type": "markdown",
   "id": "39d5fb2a-6285-42ea-b287-e9ded7c035a3",
   "metadata": {
    "slideshow": {
     "slide_type": "slide"
    },
    "tags": [],
    "user_expressions": []
   },
   "source": [
    "### Course Details\n",
    "\n",
    "- Block 2 of the Master of Data Science program at UBCV\n",
    "    - Situated in DSCI 571 - Supervised Learning I\n",
    "    - Required course in the program\n",
    "- **Prerequisite**:\n",
    "    - DSCI 511 - Programming for Data Science\n",
    "    - DSCI 521 - Computing Platforms for Data Science\n",
    "- Almost everyone in here wants to be here and is excited to learn more!"
   ]
  },
  {
   "cell_type": "markdown",
   "id": "8ad43002-98e6-4323-95d6-81932b98321d",
   "metadata": {
    "cell_style": "center",
    "hideCode": false,
    "hidePrompt": false,
    "slideshow": {
     "slide_type": "slide"
    },
    "tags": [],
    "user_expressions": []
   },
   "source": [
    "### Programming Experience\n",
    "\n",
    "- Least experienced: One full block (~5 weeks) of working in Python and R\n",
    "- Most experienced:  Worked in software industry for 2+ years\n",
    "- Everyone is familiar with course workflow\n",
    "    - Watch a short video before every class\n",
    "    - Jupyter Notebook \"worksheet\" during class with examples and demos\n",
    "- ~ 120 students in the class"
   ]
  },
  {
   "cell_type": "markdown",
   "id": "636ade24-9b1e-4622-8c41-2f55d6482eb9",
   "metadata": {
    "cell_style": "center",
    "hideCode": false,
    "hidePrompt": false,
    "slideshow": {
     "slide_type": "slide"
    },
    "user_expressions": []
   },
   "source": [
    "## Introduction (2 mins)\n",
    "\n",
    "In today's class we will discuss how to classify data using Machine Learning, in particular using the $k$-nearest neighbours algorithm.\n",
    "\n",
    "<img src =\"imgs/knn.png\" width=60%>\n",
    "\n",
    "**Caption**: Pictoral description of the kNN algorithm, with three different classes (A, B, C) and a test point ($P_t$). The $k$ nearest neighbours of $P_t$ dictates which class the point belongs to. \n",
    "\n",
    "Source: Atallah, Dalia M., et al. [Predicting kidney transplantation outcome based on hybrid feature selection and KNN classifier](https://link.springer.com/article/10.1007/s11042-019-7370-5). Multimedia Tools and Applications 78 (2019): 20383-20407 {cite}`Atallah:2019`.\n",
    "\n",
    "### Learning Intentions\n",
    "\n",
    "After deliberate **review** of this lesson, consideration of supplementary content, and sufficient **practice**, I intend for students to be able to:"
   ]
  },
  {
   "cell_type": "markdown",
   "id": "818ee1b2-c490-47b0-b753-3914ecf8bc72",
   "metadata": {
    "hideCode": false,
    "hidePrompt": false,
    "slideshow": {
     "slide_type": "fragment"
    },
    "user_expressions": []
   },
   "source": [
    "- Develop some intuition about classification using machine learning."
   ]
  },
  {
   "cell_type": "markdown",
   "id": "be7e54d4-a3af-4be7-b0db-41a278d26351",
   "metadata": {
    "hideCode": false,
    "hidePrompt": false,
    "slideshow": {
     "slide_type": "fragment"
    },
    "user_expressions": []
   },
   "source": [
    "- Summarize the $k$NN algorithm and examine its strengths and weaknesses."
   ]
  },
  {
   "cell_type": "markdown",
   "id": "495f20a0-005b-46ce-a93f-b8ece67e49b3",
   "metadata": {
    "user_expressions": []
   },
   "source": [
    "- Set up and use the $k$NN algorithm on a dataset."
   ]
  },
  {
   "cell_type": "markdown",
   "id": "0e76fcba-1fc1-473c-96f9-2f0a5dcd72b1",
   "metadata": {
    "hideCode": false,
    "hidePrompt": false,
    "slideshow": {
     "slide_type": "fragment"
    },
    "user_expressions": []
   },
   "source": [
    "- Critically evaluate the machine learning process and consider the importance of making human-centered choices."
   ]
  },
  {
   "cell_type": "markdown",
   "id": "913283e9-edfb-4e97-b734-609f866de580",
   "metadata": {
    "slideshow": {
     "slide_type": "slide"
    },
    "tags": [],
    "user_expressions": []
   },
   "source": [
    "### Pre-Lecture Video Review\n",
    "\n",
    "Before you consume the content in this class, you should have watched the Pre-Lecture Video.\n",
    "Here are the key points from that video that I'm expecting you to know:"
   ]
  },
  {
   "cell_type": "markdown",
   "id": "231dcf3a-6b32-4bd2-9357-52b939bd1661",
   "metadata": {
    "slideshow": {
     "slide_type": "fragment"
    },
    "tags": [],
    "user_expressions": []
   },
   "source": [
    "#### Machine Learning in General\n",
    "\n",
    "<img src=\"https://www.sap.com/dam/application/shared/graphics/what-is-machine-learning-process.svg\" width=100%>\n",
    "\n",
    "**Caption**: General workflow of the Machine Learning process. Image is copyright of [SAP Insights](https://www.sap.com/canada/insights/what-is-machine-learning.html), used under the education copyright exception."
   ]
  },
  {
   "cell_type": "markdown",
   "id": "a034da26-de95-40e3-a5bb-64e5c0ae13ec",
   "metadata": {
    "slideshow": {
     "slide_type": "slide"
    },
    "tags": [],
    "user_expressions": []
   },
   "source": [
    "#### Separating the training and testing data\n",
    "\n",
    "- To determine accuracy, you **MUST** use data that the classifier has never seen before.\n",
    "\n",
    "- Some people call this, the \"**Golden Rule**\" of Machine Learning:\n",
    "\n",
    "```{hint} Golden Rule\n",
    "The Test data cannot influence the training data in any way!\n",
    "```\n",
    "\n",
    "- Before you start working with the data, you should \"split\" the data into a \"training set\" and a \"test set\"\n",
    "\n",
    "<img src=\"imgs/training_test.png\" width=80%>"
   ]
  },
  {
   "cell_type": "markdown",
   "id": "08d8b4fb-7652-43a4-85c2-ca1078f8a350",
   "metadata": {
    "slideshow": {
     "slide_type": "slide"
    },
    "tags": [],
    "user_expressions": []
   },
   "source": [
    "#### **Key Terms**\n",
    "\n",
    "- **Features ($X$)**: \"Input(s)\" into the algorithm; features are measurable or observable values that are important attributes of the dataset (columns)\n",
    "- **Target ($y$)**: \"Output\", is the feature we want to predict or derive from the machine learning algorithm.\n",
    "- **Prediction**: After we create and train a machine learning model, a prediction is the result of deploying the model on test data.\n",
    "- **Train set**: A subset of the full dataset that will be used to train the model, this dataset should have correct labels for the target.\n",
    "- **Test data set**: A subset of the full dataset that will be used to assess model accuracy.\n",
    "    \n",
    "[Source: H2O.ai wiki](https://h2o.ai/wiki/)"
   ]
  },
  {
   "cell_type": "markdown",
   "id": "f31a580f-5a1d-4bb9-a342-ad762845a431",
   "metadata": {
    "cell_style": "center",
    "hideCode": false,
    "hidePrompt": false,
    "slideshow": {
     "slide_type": "slide"
    },
    "user_expressions": []
   },
   "source": [
    "## Activity: Our (toy) problem (3 mins): \n",
    "\n",
    "I have a series of **shapes**, and they have several **features**, and the goal is to *classify* a shape based on its features and put it in **Group 1** or **Group 0**.\n",
    "\n",
    "- What \"features\" of the shape might be important?\n",
    "\n",
    "- We are going to see a series of shapes, and your task is to categorize them as `Group 1` or `Group 0`.\n",
    "\n",
    "- What \"features\" of the shape might be important?\n",
    "\n",
    "- After each shape, I will tell you the correct answer (target).\n",
    "\n",
    "<img src=\"imgs/shape.png\" align=\"center\" width=100%>"
   ]
  },
  {
   "cell_type": "markdown",
   "id": "87dc7849-402e-40a8-91f2-b0c8d0370bb3",
   "metadata": {
    "slideshow": {
     "slide_type": "slide"
    },
    "tags": [],
    "user_expressions": []
   },
   "source": [
    "### Debrief\n",
    "\n",
    "- Can you imagine a computer doing the same task?"
   ]
  },
  {
   "cell_type": "markdown",
   "id": "8ef2db2c-a228-4201-8358-0da47d412c2e",
   "metadata": {
    "cell_style": "split",
    "slideshow": {
     "slide_type": "fragment"
    },
    "user_expressions": []
   },
   "source": [
    "| Feature Description | Column   |\n",
    "|---------------------|----------|\n",
    "| Number of vertices  | Vertices |\n",
    "| Number of dots      | Dots     |\n",
    "| Blob (1) or pointy (0) | Blob     |"
   ]
  },
  {
   "cell_type": "markdown",
   "id": "74f279a4-6477-41f7-b9c8-4f5c05da9974",
   "metadata": {
    "cell_style": "split",
    "slideshow": {
     "slide_type": "fragment"
    },
    "user_expressions": []
   },
   "source": [
    "| Target Description  | Target Column |\n",
    "|---------------------|---------------|\n",
    "| Group 1 or Group 0  | Stroke        |\n",
    "\n",
    "Before we get into actually classifying, let's first visualize our full dataset."
   ]
  },
  {
   "cell_type": "markdown",
   "id": "afdacaef-5cb5-47f2-9602-ea5e4d4a4d84",
   "metadata": {
    "slideshow": {
     "slide_type": "slide"
    },
    "tags": [],
    "user_expressions": []
   },
   "source": [
    "### Load and Visualize Data"
   ]
  },
  {
   "cell_type": "code",
   "execution_count": 13,
   "id": "49383d05-8959-4ca3-86af-4e688ca7f9b5",
   "metadata": {
    "slideshow": {
     "slide_type": "fragment"
    },
    "tags": []
   },
   "outputs": [
    {
     "data": {
      "text/html": [
       "<div>\n",
       "<style scoped>\n",
       "    .dataframe tbody tr th:only-of-type {\n",
       "        vertical-align: middle;\n",
       "    }\n",
       "\n",
       "    .dataframe tbody tr th {\n",
       "        vertical-align: top;\n",
       "    }\n",
       "\n",
       "    .dataframe thead th {\n",
       "        text-align: right;\n",
       "    }\n",
       "</style>\n",
       "<table border=\"1\" class=\"dataframe\">\n",
       "  <thead>\n",
       "    <tr style=\"text-align: right;\">\n",
       "      <th></th>\n",
       "      <th>dots</th>\n",
       "      <th>vertices</th>\n",
       "      <th>blob</th>\n",
       "      <th>stroke</th>\n",
       "    </tr>\n",
       "  </thead>\n",
       "  <tbody>\n",
       "    <tr>\n",
       "      <th>0</th>\n",
       "      <td>28</td>\n",
       "      <td>2</td>\n",
       "      <td>0</td>\n",
       "      <td>0</td>\n",
       "    </tr>\n",
       "    <tr>\n",
       "      <th>1</th>\n",
       "      <td>25</td>\n",
       "      <td>6</td>\n",
       "      <td>1</td>\n",
       "      <td>0</td>\n",
       "    </tr>\n",
       "    <tr>\n",
       "      <th>2</th>\n",
       "      <td>28</td>\n",
       "      <td>18</td>\n",
       "      <td>0</td>\n",
       "      <td>1</td>\n",
       "    </tr>\n",
       "    <tr>\n",
       "      <th>3</th>\n",
       "      <td>39</td>\n",
       "      <td>7</td>\n",
       "      <td>0</td>\n",
       "      <td>1</td>\n",
       "    </tr>\n",
       "    <tr>\n",
       "      <th>4</th>\n",
       "      <td>38</td>\n",
       "      <td>2</td>\n",
       "      <td>1</td>\n",
       "      <td>0</td>\n",
       "    </tr>\n",
       "  </tbody>\n",
       "</table>\n",
       "</div>"
      ],
      "text/plain": [
       "   dots  vertices  blob  stroke\n",
       "0    28         2     0       0\n",
       "1    25         6     1       0\n",
       "2    28        18     0       1\n",
       "3    39         7     0       1\n",
       "4    38         2     1       0"
      ]
     },
     "execution_count": 13,
     "metadata": {},
     "output_type": "execute_result"
    }
   ],
   "source": [
    "# First let's load our training data set\n",
    "train = read_csv(\"data/train.csv\")\n",
    "\n",
    "train.head()"
   ]
  },
  {
   "cell_type": "markdown",
   "id": "9a221db2-5688-4416-aaa2-9c43194ae37e",
   "metadata": {
    "slideshow": {
     "slide_type": "fragment"
    },
    "tags": [],
    "user_expressions": []
   },
   "source": [
    "Let's try to visualize it (if you are curious about the code to generate this, you can download the notebook and look at the code in `setup.ipynb`):\n",
    "\n",
    "<img src=\"imgs/train.png\" width=80%>"
   ]
  },
  {
   "cell_type": "markdown",
   "id": "0d3f31d7-f28c-4c0e-b2e6-dcf689b56925",
   "metadata": {
    "slideshow": {
     "slide_type": "fragment"
    },
    "user_expressions": []
   },
   "source": [
    "That's a lot of points!\n",
    "\n",
    "Remember that there is still a third dimension (`blob` which has a value of `0` or `1`) that is not shown in the plot above, so keep that in mind going forward!\n",
    "\n",
    "Let's try to formalize this and turn it into an algorithm that a computer can do for us."
   ]
  },
  {
   "cell_type": "markdown",
   "id": "41c3743f-5304-431a-9853-b8eed364422a",
   "metadata": {
    "slideshow": {
     "slide_type": "slide"
    },
    "tags": [],
    "user_expressions": []
   },
   "source": [
    "## $k$ Nearest Neighbours (kNN) method (5 mins)\n",
    "\n",
    "<img src=\"imgs/knn2.jpg\" width=100%>\n",
    "\n",
    "[Source: Natasha Latysheva, Cambridge Coding Academy](https://cambridgecoding.wordpress.com/2016/01/16/machine-learning-under-the-hood-writing-your-own-k-nearest-neighbour-algorithm/)"
   ]
  },
  {
   "cell_type": "markdown",
   "id": "e33b1643-f545-4e8d-9976-4fdfea027dea",
   "metadata": {
    "slideshow": {
     "slide_type": "fragment"
    },
    "tags": [],
    "user_expressions": []
   },
   "source": [
    "### Formalizing our Intuition\n",
    "\n",
    "- What if we looked at the closest \"neighbour\" of the test point, and just classified based on the neighbouring point?"
   ]
  },
  {
   "cell_type": "markdown",
   "id": "229c63c7-f661-4533-bb99-12e48feb9035",
   "metadata": {
    "cell_style": "split",
    "slideshow": {
     "slide_type": "fragment"
    },
    "user_expressions": []
   },
   "source": [
    "- How would we quantify the closest neighbour?\n",
    "    - Euclidean Distance between point A, $P_A$($x_1$,$y_1$) and point B, $P_B$($x_2$,$y_2$) is:\n",
    "       - $D = \\sqrt{ (x_2 - x_1)^2 + (y_2 - y_1)^2) }$"
   ]
  },
  {
   "cell_type": "markdown",
   "id": "89112d47",
   "metadata": {
    "cell_style": "split",
    "slideshow": {
     "slide_type": "fragment"
    },
    "user_expressions": []
   },
   "source": [
    "<img src=\"imgs/euclidean2.png\" width=60% align=\"center\">\n",
    "\n",
    "**Caption**: Definition of the 2D Euclidean distance for the shortest distance between two points $P_A$($x_1$,$y_1$) and point B, $P_B$($x_2$,$y_2$)."
   ]
  },
  {
   "cell_type": "markdown",
   "id": "e5127d20-9ef2-47b1-ac57-982a9f8d5b56",
   "metadata": {
    "slideshow": {
     "slide_type": "fragment"
    },
    "tags": [],
    "user_expressions": []
   },
   "source": [
    "- To calculate the Euclidean distance between two points in three dimensions with points , we just extend the 2D formula.\n",
    "\n",
    "- For two points in 3D space, $P_C$($x_1$,$y_1$,$z_1$) and $P_D$($x_2$,$y_2$,$z_2$):\n",
    "\n",
    "    - $d = \\sqrt{ (x_2 - x_1)^2 + (y_2 - y_1)^2 + (z_2 - z_1)^2}$\n",
    "\n",
    "\n",
    "- And so on... for points in N-dimensions"
   ]
  },
  {
   "cell_type": "markdown",
   "id": "cb7077e0-f11f-475e-bfba-8ce7f4517bf7",
   "metadata": {
    "slideshow": {
     "slide_type": "slide"
    },
    "tags": [],
    "user_expressions": []
   },
   "source": [
    "## Challenges with the KNN method (5 mins)\n",
    "\n",
    "The KNN algorithm is very intuitive, but it has some severe limitations."
   ]
  },
  {
   "cell_type": "markdown",
   "id": "4c89bba6-32e1-46a8-8515-0ab6c7ecb212",
   "metadata": {
    "slideshow": {
     "slide_type": "fragment"
    },
    "tags": [],
    "user_expressions": []
   },
   "source": [
    "### Can you think of some problems with the KNN method?\n",
    "\n",
    "- What if there's a tie?\n",
    "- Computationally intensive \n",
    "- Scale\n",
    "\n"
   ]
  },
  {
   "cell_type": "markdown",
   "id": "525a51c4-1ff0-49c0-90b0-259c5a1ea194",
   "metadata": {
    "slideshow": {
     "slide_type": "slide"
    },
    "tags": [],
    "user_expressions": []
   },
   "source": [
    "### Problem 1: Scaling\n",
    "\n",
    "- Points that look equidistant will not have the same distances unless the data are re-scaled.\n",
    "    "
   ]
  },
  {
   "cell_type": "markdown",
   "id": "85b081aa-d074-48c1-b733-ddfa56a4db57",
   "metadata": {
    "slideshow": {
     "slide_type": "fragment"
    },
    "tags": [],
    "user_expressions": []
   },
   "source": [
    "- **Solution: Re-scale the data!**\n",
    "    \n",
    "    - To address this problem, we can re-scale the data by transforming the data so it has a mean of 0, and a standard deviation of 1.\n",
    "\n",
    "    - We can do this by subtracting the mean $\\bar{x}$, and then dividing by the standard deviation $\\sigma$.\n",
    "\n",
    "    $$\n",
    "    Data_{scaled} = \\frac{x - \\bar{x}}{\\sigma}\n",
    "    $$\n",
    "\n",
    "    - You may recognize this as a $z$-score"
   ]
  },
  {
   "cell_type": "markdown",
   "id": "2a7f3fe3-80f4-4b41-b72c-430b4d7e0849",
   "metadata": {
    "slideshow": {
     "slide_type": "slide"
    },
    "tags": [],
    "user_expressions": []
   },
   "source": [
    "### Problem 2: Stability/outliers\n",
    "\n",
    "- If our data is noisy, this method is prone to errors due to outliers and/or just random chance"
   ]
  },
  {
   "cell_type": "markdown",
   "id": "1a76dfbe-41cf-4a78-8b07-4be18bb4dcdc",
   "metadata": {
    "slideshow": {
     "slide_type": "fragment"
    },
    "user_expressions": []
   },
   "source": [
    "- **Solution: Consider more than one neighbour!**\n",
    "    - How many neighbours?\n",
    "        - Choose an odd number so there are no ties!\n",
    "        - Start with a low-number ($k_1 = 3$), run your classification on the training dataset, record accuracy; repeat for a bunch of $k$ values.\n",
    "        - Plot the accuracy vs. $k$ and consider tradeoffs between bias (training error) and variance (testing error). See [here](https://medium.com/30-days-of-machine-learning/day-3-k-nearest-neighbors-and-bias-variance-tradeoff-75f84d515bdb) for a nice discussion of this.\n",
    "        - Rough guideline: $k$ will depend on the size of your dataset. Probably not worth it to increase $k$ beyond $\\approx \\sqrt{N}$, where $N$ is the number of data points."
   ]
  },
  {
   "cell_type": "markdown",
   "id": "7011f083-1c54-4067-9844-a66483371f5a",
   "metadata": {
    "slideshow": {
     "slide_type": "slide"
    },
    "tags": [],
    "user_expressions": []
   },
   "source": [
    "### Problem 3: Speed/Efficiency\n",
    "\n",
    "- The Euclidean distances need to be re-calculated for every new test point against all points!"
   ]
  },
  {
   "cell_type": "markdown",
   "id": "517886b3-dce7-4b71-979f-cb7c5f8dd8d5",
   "metadata": {
    "slideshow": {
     "slide_type": "fragment"
    },
    "tags": [],
    "user_expressions": []
   },
   "source": [
    "- **Solution:** No good solution - for extremely large datasets, computation of distances is very expensive!"
   ]
  },
  {
   "cell_type": "markdown",
   "id": "1a592239-b1c9-43a6-a7ec-f1ce146f1bb1",
   "metadata": {
    "slideshow": {
     "slide_type": "slide"
    },
    "tags": [],
    "user_expressions": []
   },
   "source": [
    "### Problem 4: Curse of Dimensionality\n",
    "\n",
    "- The kNN algorithm works reasonably well when the number of features ($d$) is small, but as $d$ increases, accuracy (and suitability) quickly falls !"
   ]
  },
  {
   "cell_type": "markdown",
   "id": "dd03e138-939d-4e38-93c2-07f8f44f08a4",
   "metadata": {
    "slideshow": {
     "slide_type": "fragment"
    },
    "tags": [],
    "user_expressions": []
   },
   "source": [
    "- **Solution**: Not really a good solution here either, if $d$ is high you could do some dimensionality reduction, but other algorithms are probably better suited!"
   ]
  },
  {
   "cell_type": "markdown",
   "id": "730acd75-04ea-452f-b588-d732a3c73c5f",
   "metadata": {
    "slideshow": {
     "slide_type": "slide"
    },
    "tags": [],
    "user_expressions": []
   },
   "source": [
    "### Summary: Steps of the kNN algorithm\n",
    "\n",
    "- Load Data and split into test/train sets\n",
    "- Visualize Data\n",
    "- Rescale Data\n",
    "- Create classifier\n",
    "- Train Algorithm\n",
    "- Check accuracy of classifier\n",
    "- Tweak Hyper-parameters ($k$)\n",
    "- Retrain Algorithm\n",
    "- Check accuracy of classifier\n",
    "- etc...(iterate)"
   ]
  },
  {
   "cell_type": "markdown",
   "id": "1b0aeb86-1274-44c7-8409-d03d9cdab0a0",
   "metadata": {
    "slideshow": {
     "slide_type": "slide"
    },
    "tags": [],
    "user_expressions": []
   },
   "source": [
    "## Demo of k Nearest Neighbours algorithm (5 mins)"
   ]
  },
  {
   "cell_type": "code",
   "execution_count": 14,
   "id": "3c6f1d04-c95d-479d-b353-eb762a529a6a",
   "metadata": {
    "slideshow": {
     "slide_type": "slide"
    },
    "tags": []
   },
   "outputs": [
    {
     "data": {
      "text/html": [
       "<div>\n",
       "<style scoped>\n",
       "    .dataframe tbody tr th:only-of-type {\n",
       "        vertical-align: middle;\n",
       "    }\n",
       "\n",
       "    .dataframe tbody tr th {\n",
       "        vertical-align: top;\n",
       "    }\n",
       "\n",
       "    .dataframe thead th {\n",
       "        text-align: right;\n",
       "    }\n",
       "</style>\n",
       "<table border=\"1\" class=\"dataframe\">\n",
       "  <thead>\n",
       "    <tr style=\"text-align: right;\">\n",
       "      <th></th>\n",
       "      <th>dots</th>\n",
       "      <th>vertices</th>\n",
       "      <th>blob</th>\n",
       "      <th>stroke</th>\n",
       "    </tr>\n",
       "  </thead>\n",
       "  <tbody>\n",
       "    <tr>\n",
       "      <th>0</th>\n",
       "      <td>-0.560732</td>\n",
       "      <td>-0.297568</td>\n",
       "      <td>-0.498312</td>\n",
       "      <td>0</td>\n",
       "    </tr>\n",
       "    <tr>\n",
       "      <th>1</th>\n",
       "      <td>-0.816171</td>\n",
       "      <td>0.526527</td>\n",
       "      <td>2.006299</td>\n",
       "      <td>0</td>\n",
       "    </tr>\n",
       "    <tr>\n",
       "      <th>2</th>\n",
       "      <td>-0.560732</td>\n",
       "      <td>2.998813</td>\n",
       "      <td>-0.498312</td>\n",
       "      <td>1</td>\n",
       "    </tr>\n",
       "    <tr>\n",
       "      <th>3</th>\n",
       "      <td>0.375878</td>\n",
       "      <td>0.732551</td>\n",
       "      <td>-0.498312</td>\n",
       "      <td>1</td>\n",
       "    </tr>\n",
       "    <tr>\n",
       "      <th>4</th>\n",
       "      <td>0.290732</td>\n",
       "      <td>-0.297568</td>\n",
       "      <td>2.006299</td>\n",
       "      <td>0</td>\n",
       "    </tr>\n",
       "  </tbody>\n",
       "</table>\n",
       "</div>"
      ],
      "text/plain": [
       "       dots  vertices      blob  stroke\n",
       "0 -0.560732 -0.297568 -0.498312       0\n",
       "1 -0.816171  0.526527  2.006299       0\n",
       "2 -0.560732  2.998813 -0.498312       1\n",
       "3  0.375878  0.732551 -0.498312       1\n",
       "4  0.290732 -0.297568  2.006299       0"
      ]
     },
     "execution_count": 14,
     "metadata": {},
     "output_type": "execute_result"
    }
   ],
   "source": [
    "# First, we need to rescale our training data set (we'll keep the means and standard deviations for the test set)\n",
    "\n",
    "train_mean = train.mean().to_dict()\n",
    "train_std = train.std().to_dict()\n",
    "\n",
    "# For each of the features, subtract the mean and divide by the standard deviation\n",
    "for col in [\"vertices\", \"dots\", \"blob\"]:\n",
    "    train[col] = (train[col] - train_mean[col]) / train_std[col]\n",
    "\n",
    "train.head()"
   ]
  },
  {
   "cell_type": "markdown",
   "id": "84b075ca-a44c-42f5-8e74-ca1ebde2448c",
   "metadata": {
    "slideshow": {
     "slide_type": "fragment"
    },
    "tags": [],
    "user_expressions": []
   },
   "source": [
    "````{hint} Tip\n",
    "Note that the `sklearn` package provides us with several convenience functions to accomplish the above task.\n",
    "\n",
    "```\n",
    "train = read_csv(\"data/train.csv\")\n",
    "scaler = StandardScaler().set_output(transform=\"pandas\")\n",
    "scaler.fit(train[[\"vertices\", \"dots\", \"blob\"]])\n",
    "scaler.transform(train[[\"vertices\", \"dots\", \"blob\"]]).head()\n",
    "```\n",
    "Go ahead and give it a shot, make sure the output is the same!\n",
    "\n",
    "````\n",
    "\n"
   ]
  },
  {
   "cell_type": "code",
   "execution_count": 18,
   "id": "2fa22b14-dd40-4b1b-8cb1-0e9205980a6c",
   "metadata": {
    "slideshow": {
     "slide_type": "fragment"
    },
    "tags": []
   },
   "outputs": [],
   "source": [
    "# Then, let's create a classifier (model) - we'll set $k = 5$ to start with.\n",
    "\n",
    "classifier = KNN(n_neighbors=5, metric=\"euclidean\")"
   ]
  },
  {
   "cell_type": "code",
   "execution_count": 23,
   "id": "a5a5cf30-0b5b-496b-a92c-656f9731139d",
   "metadata": {
    "slideshow": {
     "slide_type": "fragment"
    },
    "tags": []
   },
   "outputs": [
    {
     "data": {
      "text/html": [
       "<style>#sk-container-id-4 {color: black;background-color: white;}#sk-container-id-4 pre{padding: 0;}#sk-container-id-4 div.sk-toggleable {background-color: white;}#sk-container-id-4 label.sk-toggleable__label {cursor: pointer;display: block;width: 100%;margin-bottom: 0;padding: 0.3em;box-sizing: border-box;text-align: center;}#sk-container-id-4 label.sk-toggleable__label-arrow:before {content: \"▸\";float: left;margin-right: 0.25em;color: #696969;}#sk-container-id-4 label.sk-toggleable__label-arrow:hover:before {color: black;}#sk-container-id-4 div.sk-estimator:hover label.sk-toggleable__label-arrow:before {color: black;}#sk-container-id-4 div.sk-toggleable__content {max-height: 0;max-width: 0;overflow: hidden;text-align: left;background-color: #f0f8ff;}#sk-container-id-4 div.sk-toggleable__content pre {margin: 0.2em;color: black;border-radius: 0.25em;background-color: #f0f8ff;}#sk-container-id-4 input.sk-toggleable__control:checked~div.sk-toggleable__content {max-height: 200px;max-width: 100%;overflow: auto;}#sk-container-id-4 input.sk-toggleable__control:checked~label.sk-toggleable__label-arrow:before {content: \"▾\";}#sk-container-id-4 div.sk-estimator input.sk-toggleable__control:checked~label.sk-toggleable__label {background-color: #d4ebff;}#sk-container-id-4 div.sk-label input.sk-toggleable__control:checked~label.sk-toggleable__label {background-color: #d4ebff;}#sk-container-id-4 input.sk-hidden--visually {border: 0;clip: rect(1px 1px 1px 1px);clip: rect(1px, 1px, 1px, 1px);height: 1px;margin: -1px;overflow: hidden;padding: 0;position: absolute;width: 1px;}#sk-container-id-4 div.sk-estimator {font-family: monospace;background-color: #f0f8ff;border: 1px dotted black;border-radius: 0.25em;box-sizing: border-box;margin-bottom: 0.5em;}#sk-container-id-4 div.sk-estimator:hover {background-color: #d4ebff;}#sk-container-id-4 div.sk-parallel-item::after {content: \"\";width: 100%;border-bottom: 1px solid gray;flex-grow: 1;}#sk-container-id-4 div.sk-label:hover label.sk-toggleable__label {background-color: #d4ebff;}#sk-container-id-4 div.sk-serial::before {content: \"\";position: absolute;border-left: 1px solid gray;box-sizing: border-box;top: 0;bottom: 0;left: 50%;z-index: 0;}#sk-container-id-4 div.sk-serial {display: flex;flex-direction: column;align-items: center;background-color: white;padding-right: 0.2em;padding-left: 0.2em;position: relative;}#sk-container-id-4 div.sk-item {position: relative;z-index: 1;}#sk-container-id-4 div.sk-parallel {display: flex;align-items: stretch;justify-content: center;background-color: white;position: relative;}#sk-container-id-4 div.sk-item::before, #sk-container-id-4 div.sk-parallel-item::before {content: \"\";position: absolute;border-left: 1px solid gray;box-sizing: border-box;top: 0;bottom: 0;left: 50%;z-index: -1;}#sk-container-id-4 div.sk-parallel-item {display: flex;flex-direction: column;z-index: 1;position: relative;background-color: white;}#sk-container-id-4 div.sk-parallel-item:first-child::after {align-self: flex-end;width: 50%;}#sk-container-id-4 div.sk-parallel-item:last-child::after {align-self: flex-start;width: 50%;}#sk-container-id-4 div.sk-parallel-item:only-child::after {width: 0;}#sk-container-id-4 div.sk-dashed-wrapped {border: 1px dashed gray;margin: 0 0.4em 0.5em 0.4em;box-sizing: border-box;padding-bottom: 0.4em;background-color: white;}#sk-container-id-4 div.sk-label label {font-family: monospace;font-weight: bold;display: inline-block;line-height: 1.2em;}#sk-container-id-4 div.sk-label-container {text-align: center;}#sk-container-id-4 div.sk-container {/* jupyter's `normalize.less` sets `[hidden] { display: none; }` but bootstrap.min.css set `[hidden] { display: none !important; }` so we also need the `!important` here to be able to override the default hidden behavior on the sphinx rendered scikit-learn.org. See: https://github.com/scikit-learn/scikit-learn/issues/21755 */display: inline-block !important;position: relative;}#sk-container-id-4 div.sk-text-repr-fallback {display: none;}</style><div id=\"sk-container-id-4\" class=\"sk-top-container\"><div class=\"sk-text-repr-fallback\"><pre>KNeighborsClassifier(metric=&#x27;euclidean&#x27;)</pre><b>In a Jupyter environment, please rerun this cell to show the HTML representation or trust the notebook. <br />On GitHub, the HTML representation is unable to render, please try loading this page with nbviewer.org.</b></div><div class=\"sk-container\" hidden><div class=\"sk-item\"><div class=\"sk-estimator sk-toggleable\"><input class=\"sk-toggleable__control sk-hidden--visually\" id=\"sk-estimator-id-4\" type=\"checkbox\" checked><label for=\"sk-estimator-id-4\" class=\"sk-toggleable__label sk-toggleable__label-arrow\">KNeighborsClassifier</label><div class=\"sk-toggleable__content\"><pre>KNeighborsClassifier(metric=&#x27;euclidean&#x27;)</pre></div></div></div></div></div>"
      ],
      "text/plain": [
       "KNeighborsClassifier(metric='euclidean')"
      ]
     },
     "execution_count": 23,
     "metadata": {},
     "output_type": "execute_result"
    }
   ],
   "source": [
    "# Now, let's Train our model\n",
    "\n",
    "classifier.fit(X=train[[\"vertices\", \"dots\", \"blob\"]], y=train[\"stroke\"])"
   ]
  },
  {
   "cell_type": "code",
   "execution_count": 24,
   "id": "8b20a2c0-42d7-4fb4-b1c9-db92e907055b",
   "metadata": {
    "slideshow": {
     "slide_type": "fragment"
    },
    "tags": []
   },
   "outputs": [
    {
     "data": {
      "text/plain": [
       "array([0, 1, 1, ..., 1, 0, 1])"
      ]
     },
     "execution_count": 24,
     "metadata": {},
     "output_type": "execute_result"
    }
   ],
   "source": [
    "# Let's use the classifier to predict each row of our training data set:\n",
    "\n",
    "predictions = classifier.predict(train[[\"vertices\", \"dots\", \"blob\"]])\n",
    "predictions"
   ]
  },
  {
   "cell_type": "markdown",
   "id": "50617793-b897-41ce-8dee-2fe575b64a9d",
   "metadata": {
    "slideshow": {
     "slide_type": "fragment"
    },
    "user_expressions": []
   },
   "source": [
    "```{important}\n",
    "Let's check the accuracy of these predictions to see how well we did (on our training data).\n",
    "```"
   ]
  },
  {
   "cell_type": "code",
   "execution_count": 25,
   "id": "96a86684-11d8-4a24-8619-469d3b25fbff",
   "metadata": {
    "slideshow": {
     "slide_type": "fragment"
    },
    "tags": []
   },
   "outputs": [
    {
     "name": "stdout",
     "output_type": "stream",
     "text": [
      "The model accuracy is 70.2%.\n"
     ]
    }
   ],
   "source": [
    "check_accuracy(train[\"stroke\"], predictions)"
   ]
  },
  {
   "cell_type": "markdown",
   "id": "94d1c52e-125a-4edf-abe8-8f1bc6c8c149",
   "metadata": {
    "slideshow": {
     "slide_type": "fragment"
    },
    "tags": [],
    "user_expressions": []
   },
   "source": [
    "```{attention}\n",
    "\n",
    "Once you are confident that your model is setup correctly, the next step is to run the model on **previously unseen** data (the **test** set).\n",
    "```"
   ]
  },
  {
   "cell_type": "code",
   "execution_count": 26,
   "id": "4c7078d3-694d-4873-b972-c3c86e440227",
   "metadata": {
    "slideshow": {
     "slide_type": "fragment"
    },
    "tags": []
   },
   "outputs": [
    {
     "data": {
      "text/html": [
       "<div>\n",
       "<style scoped>\n",
       "    .dataframe tbody tr th:only-of-type {\n",
       "        vertical-align: middle;\n",
       "    }\n",
       "\n",
       "    .dataframe tbody tr th {\n",
       "        vertical-align: top;\n",
       "    }\n",
       "\n",
       "    .dataframe thead th {\n",
       "        text-align: right;\n",
       "    }\n",
       "</style>\n",
       "<table border=\"1\" class=\"dataframe\">\n",
       "  <thead>\n",
       "    <tr style=\"text-align: right;\">\n",
       "      <th></th>\n",
       "      <th>dots</th>\n",
       "      <th>vertices</th>\n",
       "      <th>blob</th>\n",
       "      <th>stroke</th>\n",
       "    </tr>\n",
       "  </thead>\n",
       "  <tbody>\n",
       "    <tr>\n",
       "      <th>0</th>\n",
       "      <td>25</td>\n",
       "      <td>1</td>\n",
       "      <td>0</td>\n",
       "      <td>1</td>\n",
       "    </tr>\n",
       "    <tr>\n",
       "      <th>1</th>\n",
       "      <td>31</td>\n",
       "      <td>4</td>\n",
       "      <td>0</td>\n",
       "      <td>1</td>\n",
       "    </tr>\n",
       "    <tr>\n",
       "      <th>2</th>\n",
       "      <td>31</td>\n",
       "      <td>1</td>\n",
       "      <td>0</td>\n",
       "      <td>0</td>\n",
       "    </tr>\n",
       "    <tr>\n",
       "      <th>3</th>\n",
       "      <td>19</td>\n",
       "      <td>0</td>\n",
       "      <td>1</td>\n",
       "      <td>1</td>\n",
       "    </tr>\n",
       "    <tr>\n",
       "      <th>4</th>\n",
       "      <td>25</td>\n",
       "      <td>0</td>\n",
       "      <td>0</td>\n",
       "      <td>0</td>\n",
       "    </tr>\n",
       "    <tr>\n",
       "      <th>...</th>\n",
       "      <td>...</td>\n",
       "      <td>...</td>\n",
       "      <td>...</td>\n",
       "      <td>...</td>\n",
       "    </tr>\n",
       "    <tr>\n",
       "      <th>1051</th>\n",
       "      <td>53</td>\n",
       "      <td>1</td>\n",
       "      <td>0</td>\n",
       "      <td>0</td>\n",
       "    </tr>\n",
       "    <tr>\n",
       "      <th>1052</th>\n",
       "      <td>25</td>\n",
       "      <td>9</td>\n",
       "      <td>0</td>\n",
       "      <td>0</td>\n",
       "    </tr>\n",
       "    <tr>\n",
       "      <th>1053</th>\n",
       "      <td>22</td>\n",
       "      <td>0</td>\n",
       "      <td>1</td>\n",
       "      <td>0</td>\n",
       "    </tr>\n",
       "    <tr>\n",
       "      <th>1054</th>\n",
       "      <td>34</td>\n",
       "      <td>1</td>\n",
       "      <td>0</td>\n",
       "      <td>0</td>\n",
       "    </tr>\n",
       "    <tr>\n",
       "      <th>1055</th>\n",
       "      <td>36</td>\n",
       "      <td>0</td>\n",
       "      <td>0</td>\n",
       "      <td>0</td>\n",
       "    </tr>\n",
       "  </tbody>\n",
       "</table>\n",
       "<p>1056 rows × 4 columns</p>\n",
       "</div>"
      ],
      "text/plain": [
       "      dots  vertices  blob  stroke\n",
       "0       25         1     0       1\n",
       "1       31         4     0       1\n",
       "2       31         1     0       0\n",
       "3       19         0     1       1\n",
       "4       25         0     0       0\n",
       "...    ...       ...   ...     ...\n",
       "1051    53         1     0       0\n",
       "1052    25         9     0       0\n",
       "1053    22         0     1       0\n",
       "1054    34         1     0       0\n",
       "1055    36         0     0       0\n",
       "\n",
       "[1056 rows x 4 columns]"
      ]
     },
     "execution_count": 26,
     "metadata": {},
     "output_type": "execute_result"
    }
   ],
   "source": [
    "# So let's load the test data set\n",
    "\n",
    "test = read_csv(\"data/test.csv\")\n",
    "test"
   ]
  },
  {
   "cell_type": "code",
   "execution_count": 27,
   "id": "47a2f24b-f33a-432f-bf31-cb35928f4b0d",
   "metadata": {
    "slideshow": {
     "slide_type": "fragment"
    },
    "tags": []
   },
   "outputs": [
    {
     "data": {
      "text/html": [
       "<div>\n",
       "<style scoped>\n",
       "    .dataframe tbody tr th:only-of-type {\n",
       "        vertical-align: middle;\n",
       "    }\n",
       "\n",
       "    .dataframe tbody tr th {\n",
       "        vertical-align: top;\n",
       "    }\n",
       "\n",
       "    .dataframe thead th {\n",
       "        text-align: right;\n",
       "    }\n",
       "</style>\n",
       "<table border=\"1\" class=\"dataframe\">\n",
       "  <thead>\n",
       "    <tr style=\"text-align: right;\">\n",
       "      <th></th>\n",
       "      <th>dots</th>\n",
       "      <th>vertices</th>\n",
       "      <th>blob</th>\n",
       "      <th>stroke</th>\n",
       "    </tr>\n",
       "  </thead>\n",
       "  <tbody>\n",
       "    <tr>\n",
       "      <th>0</th>\n",
       "      <td>-0.816171</td>\n",
       "      <td>-0.503592</td>\n",
       "      <td>-0.498312</td>\n",
       "      <td>1</td>\n",
       "    </tr>\n",
       "    <tr>\n",
       "      <th>1</th>\n",
       "      <td>-0.305293</td>\n",
       "      <td>0.114479</td>\n",
       "      <td>-0.498312</td>\n",
       "      <td>1</td>\n",
       "    </tr>\n",
       "    <tr>\n",
       "      <th>2</th>\n",
       "      <td>-0.305293</td>\n",
       "      <td>-0.503592</td>\n",
       "      <td>-0.498312</td>\n",
       "      <td>0</td>\n",
       "    </tr>\n",
       "    <tr>\n",
       "      <th>3</th>\n",
       "      <td>-1.327049</td>\n",
       "      <td>-0.709616</td>\n",
       "      <td>2.006299</td>\n",
       "      <td>1</td>\n",
       "    </tr>\n",
       "    <tr>\n",
       "      <th>4</th>\n",
       "      <td>-0.816171</td>\n",
       "      <td>-0.709616</td>\n",
       "      <td>-0.498312</td>\n",
       "      <td>0</td>\n",
       "    </tr>\n",
       "  </tbody>\n",
       "</table>\n",
       "</div>"
      ],
      "text/plain": [
       "       dots  vertices      blob  stroke\n",
       "0 -0.816171 -0.503592 -0.498312       1\n",
       "1 -0.305293  0.114479 -0.498312       1\n",
       "2 -0.305293 -0.503592 -0.498312       0\n",
       "3 -1.327049 -0.709616  2.006299       1\n",
       "4 -0.816171 -0.709616 -0.498312       0"
      ]
     },
     "execution_count": 27,
     "metadata": {},
     "output_type": "execute_result"
    }
   ],
   "source": [
    "# We need to rescale our data *exactly* the same way we scaled our training data set\n",
    "\n",
    "for col in [\"vertices\", \"dots\", \"blob\"]:\n",
    "    test[col] = (test[col] - train_mean[col]) / train_std[col]\n",
    "\n",
    "test.head()"
   ]
  },
  {
   "cell_type": "markdown",
   "id": "4c386e5e-22d0-4296-a8c3-018b44320a58",
   "metadata": {
    "slideshow": {
     "slide_type": "fragment"
    },
    "tags": [],
    "user_expressions": []
   },
   "source": [
    "````{hint} Tip\n",
    "Again, note the `sklearn` package provides us with several convenience functions to accomplish the above task.\n",
    "\n",
    "```\n",
    "test = read_csv(\"data/test.csv\")\n",
    "scaler.transform(test[[\"vertices\", \"dots\", \"blob\"]])\n",
    "```\n",
    "Go ahead and give it a shot, make sure the output is the same!\n",
    "\n",
    "````"
   ]
  },
  {
   "cell_type": "code",
   "execution_count": 28,
   "id": "838efc68-8fee-4cf1-84ce-2c88b407c5d6",
   "metadata": {
    "slideshow": {
     "slide_type": "fragment"
    },
    "tags": []
   },
   "outputs": [
    {
     "data": {
      "text/plain": [
       "array([0, 1, 0, ..., 0, 0, 0])"
      ]
     },
     "execution_count": 28,
     "metadata": {},
     "output_type": "execute_result"
    }
   ],
   "source": [
    "# Let's use the classifier to predict each row of our TEST data set:\n",
    "\n",
    "predictions = classifier.predict(test[[\"vertices\", \"dots\", \"blob\"]])\n",
    "predictions"
   ]
  },
  {
   "cell_type": "code",
   "execution_count": 11,
   "id": "2e4dd147-d7f3-454a-8515-d9620ead383a",
   "metadata": {
    "slideshow": {
     "slide_type": "fragment"
    },
    "tags": []
   },
   "outputs": [
    {
     "name": "stdout",
     "output_type": "stream",
     "text": [
      "The model accuracy is 65.6%.\n"
     ]
    }
   ],
   "source": [
    "# And finally, check our accuracy\n",
    "check_accuracy(test[\"stroke\"], predictions)"
   ]
  },
  {
   "cell_type": "code",
   "execution_count": null,
   "id": "9d1ac2eb-108d-4ef7-ae83-4194737b865d",
   "metadata": {
    "slideshow": {
     "slide_type": "fragment"
    },
    "tags": []
   },
   "outputs": [],
   "source": []
  },
  {
   "cell_type": "markdown",
   "id": "492d9899-e7c0-4e53-9d76-45c8a9a3d71e",
   "metadata": {
    "cell_style": "split",
    "slideshow": {
     "slide_type": "slide"
    },
    "user_expressions": []
   },
   "source": [
    "## The importance of Context (5 mins)\n",
    "\n",
    "- Let's start with the accuracy numbers:\n",
    "    - Our algorithm gets it right ~ 66 times out of 100.\n",
    "    - That's not bad - it's probably okay if we mis-classify some of them right?"
   ]
  },
  {
   "cell_type": "markdown",
   "id": "102bc22e-4c5e-4e95-9050-94c73a2d18a7",
   "metadata": {
    "cell_style": "split",
    "slideshow": {
     "slide_type": "fragment"
    },
    "user_expressions": []
   },
   "source": [
    "- What if I told you that the data you've been working with has nothing to do with shapes, but people?\n",
    "\n",
    "<img src=\"https://media3.giphy.com/media/8cPKrvyEpAMu2QFDWe/giphy.gif?cid=ecf05e47v152n2xlz4w3weap7880dy81u4rq4hs1zlds4o2q&rid=giphy.gif&ct=g\" align=\"center\">"
   ]
  },
  {
   "cell_type": "markdown",
   "id": "92d3eab5-18e4-4343-88b5-55b4015e6634",
   "metadata": {
    "slideshow": {
     "slide_type": "fragment"
    },
    "tags": [],
    "user_expressions": []
   },
   "source": [
    "- Here's what the data actually represents, all I did was change the names of the columns:\n",
    "\n",
    "| Toy Column Name     | Actual Column Name                |\n",
    "|---------------------|-----------------------------------|\n",
    "| Vertices            | Prior Arrests                     |\n",
    "| Dots                | Age                               |\n",
    "| Blob                | Sex                               |\n",
    "| Stroke              | Re-offense committed (recidivism) |"
   ]
  },
  {
   "cell_type": "markdown",
   "id": "e47e740b-6658-48f8-bbdd-6c6ce958aae2",
   "metadata": {
    "slideshow": {
     "slide_type": "fragment"
    },
    "tags": [],
    "user_expressions": []
   },
   "source": [
    "### The Context\n",
    "\n",
    "> \"The United States locks up far more people than any other country, a disproportionate number of them black. For more than two centuries, the key decisions in the legal process, from pretrial release to sentencing to parole, have been in the hands of human beings guided by their instincts and personal biases.\"\n",
    "\n",
    "- [Machine Bias Risk Assessments in Criminal Sentencing](https://www.propublica.org/article/machine-bias-risk-assessments-in-criminal-sentencing)"
   ]
  },
  {
   "cell_type": "markdown",
   "id": "023c3d85-c5f3-4c3f-8f96-474997a9af19",
   "metadata": {
    "slideshow": {
     "slide_type": "fragment"
    },
    "tags": [],
    "user_expressions": []
   },
   "source": [
    "#### Risk Scores\n",
    "\n",
    "> \"If computers could accurately predict which defendants were likely to commit new crimes, the criminal justice system could be fairer and more selective about who is incarcerated and for how long. The trick, of course, is to make sure the computer gets it right. If it’s wrong in one direction, a dangerous criminal could go free. If it’s wrong in another direction, it could result in someone unfairly receiving a harsher sentence or waiting longer for parole than is appropriate.\"\n",
    "\n",
    "- [Machine Bias Risk Assessments in Criminal Sentencing](https://www.propublica.org/article/machine-bias-risk-assessments-in-criminal-sentencing)"
   ]
  },
  {
   "cell_type": "markdown",
   "id": "9c200a68-c1aa-4792-ad60-5c50dcd023c3",
   "metadata": {
    "slideshow": {
     "slide_type": "slide"
    },
    "tags": [],
    "user_expressions": []
   },
   "source": [
    "#### COMPAS and Northpointe\n",
    "\n",
    "COMPAS is one such proprietary software, developed by a for-profit company called Northpointe.\n",
    "\n",
    "> Northpointe’s core product is a set of scores **derived from 137 questions that are either answered by defendants or pulled from criminal records**.\n",
    "\n",
    "\n",
    "\n",
    "<img src=\"imgs/context.png\" width=100%>\n",
    "\n",
    "[Source: ProPublica](https://www.propublica.org/article/machine-bias-risk-assessments-in-criminal-sentencing)"
   ]
  },
  {
   "cell_type": "markdown",
   "id": "d9eca7a5-b6a8-48c0-a2a8-09ce6cc02b1e",
   "metadata": {
    "slideshow": {
     "slide_type": "fragment"
    },
    "tags": [],
    "user_expressions": []
   },
   "source": [
    "Here's how it performs:\n",
    "\n",
    "\n",
    "<img src=\"imgs/propublica2.png\" width=80%>\n",
    "\n",
    "[Source: ProPublica](https://www.propublica.org/article/machine-bias-risk-assessments-in-criminal-sentencing)\n",
    "\n"
   ]
  },
  {
   "cell_type": "markdown",
   "id": "824a569a-67da-4daa-ba9f-53f1e795fc1f",
   "metadata": {
    "slideshow": {
     "slide_type": "slide"
    },
    "tags": [],
    "user_expressions": []
   },
   "source": [
    "### Debrief"
   ]
  },
  {
   "cell_type": "markdown",
   "id": "a3b574c6",
   "metadata": {
    "slideshow": {
     "slide_type": "fragment"
    },
    "user_expressions": []
   },
   "source": [
    "- Now let's re-evaluate the algorithm performance (65.6%) with this contextual information."
   ]
  },
  {
   "cell_type": "markdown",
   "id": "e0175654",
   "metadata": {
    "slideshow": {
     "slide_type": "fragment"
    },
    "user_expressions": []
   },
   "source": [
    "- When we changed the context, we started to look beyond numbers, and saw human beings instead.\n"
   ]
  },
  {
   "cell_type": "markdown",
   "id": "bc2884e2",
   "metadata": {
    "slideshow": {
     "slide_type": "fragment"
    },
    "user_expressions": []
   },
   "source": [
    "- Consider your choices carefully - they may seem inoccuous initially, but hiding behind black box algorithms and deploying Weapons of Math Destruction ([Cathy O'Neil](https://en.wikipedia.org/wiki/Weapons_of_Math_Destruction)) without appropriately scrutinizing the underlying data is DANGEROUS!\n"
   ]
  },
  {
   "cell_type": "markdown",
   "id": "6745a2f7-5144-42e4-b55b-6a22a9f6ed52",
   "metadata": {
    "slideshow": {
     "slide_type": "fragment"
    },
    "user_expressions": []
   },
   "source": [
    "\n",
    "- \"Data\" is not a panacea or a magical cure-all ; it's not biased in itself but it **does** reflect the biases, oppressions, systemic inequties within our society."
   ]
  },
  {
   "cell_type": "markdown",
   "id": "19a084ad-f003-417f-8fb4-398245a9e6b3",
   "metadata": {
    "slideshow": {
     "slide_type": "slide"
    },
    "user_expressions": []
   },
   "source": [
    "## Preview of next few classes (1 min)\n",
    "\n",
    "Over the next few weeks in lectures and labs we will:"
   ]
  },
  {
   "cell_type": "markdown",
   "id": "37ee2005-a093-4be3-bd20-68e5cccf0117",
   "metadata": {
    "slideshow": {
     "slide_type": "fragment"
    },
    "user_expressions": []
   },
   "source": [
    "- carefully reproduce the Propublica analysis by treating the Northpointe algorithm as a binary classifier."
   ]
  },
  {
   "cell_type": "markdown",
   "id": "5188e4ea-5548-43b1-9d5f-41c6a4821e39",
   "metadata": {
    "slideshow": {
     "slide_type": "fragment"
    },
    "user_expressions": []
   },
   "source": [
    "- analyze what it means for an algorithm to be \"fair\"."
   ]
  },
  {
   "cell_type": "markdown",
   "id": "9e0724b3-7dd3-46ca-8a80-a3a68753e0e6",
   "metadata": {
    "slideshow": {
     "slide_type": "fragment"
    },
    "user_expressions": []
   },
   "source": [
    "- look at Northpointe's response, and those of some other academics about this issue."
   ]
  },
  {
   "cell_type": "markdown",
   "id": "432775ae-836d-4215-a380-d49105387465",
   "metadata": {
    "slideshow": {
     "slide_type": "fragment"
    },
    "user_expressions": []
   },
   "source": [
    "- consider metrics beyond simple \"accuracy\"."
   ]
  },
  {
   "cell_type": "markdown",
   "id": "d1805fb4-d708-4ec2-b7a4-4b59589e06ec",
   "metadata": {
    "slideshow": {
     "slide_type": "fragment"
    },
    "user_expressions": []
   },
   "source": [
    "- learn some more sophisticated ML algorithms to see if we can remove bias (**Spoiler Alert: We will fail spectacularly!**)"
   ]
  },
  {
   "cell_type": "markdown",
   "id": "75f34394-7901-40db-9eea-77f7c00fadd3",
   "metadata": {
    "hideCode": false,
    "hidePrompt": false,
    "slideshow": {
     "slide_type": "slide"
    },
    "tags": [],
    "user_expressions": []
   },
   "source": [
    "## Summary of Learning Intentions (1 mins)"
   ]
  },
  {
   "cell_type": "markdown",
   "id": "c71e46bb-b8eb-4764-8505-232a37a55f78",
   "metadata": {
    "hideCode": false,
    "hidePrompt": false,
    "slideshow": {
     "slide_type": "fragment"
    },
    "user_expressions": []
   },
   "source": [
    "- Develop intuition about classification using machine learning.\n",
    "\n",
    "- Identify the general steps of classification using machine learning.\n",
    "\n",
    "- Summarize the kNN algorithm and examine its advantages and limitations.\n",
    "\n",
    "- Critically evaluate the machine learning process and consider the importance of making human-centered choices."
   ]
  },
  {
   "cell_type": "markdown",
   "id": "a12235a5-3805-4b30-86d3-d6bb35ac4ffb",
   "metadata": {
    "slideshow": {
     "slide_type": "slide"
    },
    "tags": [],
    "user_expressions": []
   },
   "source": [
    "### Review of KNN\n",
    "\n",
    "<img src=\"imgs/knn2.jpg\" width=100%>\n",
    "\n",
    "[Source: Natasha Latysheva, Cambridge Coding Academy](https://cambridgecoding.wordpress.com/2016/01/16/machine-learning-under-the-hood-writing-your-own-k-nearest-neighbour-algorithm/)"
   ]
  },
  {
   "cell_type": "markdown",
   "id": "e3d4906a-d85c-4a1b-9816-f9500168950c",
   "metadata": {
    "slideshow": {
     "slide_type": "slide"
    },
    "tags": [],
    "user_expressions": []
   },
   "source": [
    "### Acknowledgements\n",
    "\n",
    "<img src=\"imgs/propublica.png\" width=100%>\n",
    "\n",
    "[Source: ProPublica](https://www.propublica.org/article/machine-bias-risk-assessments-in-criminal-sentencing)"
   ]
  },
  {
   "cell_type": "markdown",
   "id": "60d27425-f26f-42ae-a777-bc9c3ab34a60",
   "metadata": {
    "slideshow": {
     "slide_type": "slide"
    },
    "tags": [],
    "user_expressions": []
   },
   "source": [
    "\n",
    "### Acknowledgements\n",
    "\n",
    "- UC Berkeley Foundations of Data Science Data8 course notes, in particular [David Wagner's chapter on Classification](https://inferentialthinking.com/chapters/17/Classification.html).\n",
    "\n",
    "- UBC's [Varada Kolhatkar and Mike Gelbart's CPSC 330 class notes on Supervised Learning Methods](https://github.com/UBC-CS/cpsc330/blob/master/lectures/04_kNNs-SVM-RBF.ipynb); some material from this lesson was adapted or inspired from this work.\n",
    "\n",
    "- [ProPublica article](https://www.propublica.org/article/machine-bias-risk-assessments-in-criminal-sentencing) that inspired this class.\n",
    "\n",
    "- [Allen Downey's Recidivism Case Study](https://allendowney.github.io/RecidivismCaseStudy/index.html).\n",
    "\n",
    "- UBC's [Mike Gelbart's video lectures on KNN](https://www.youtube.com/watch?v=JRF6oELLn0M&list=PLWmXHcz_53Q02ZLeAxigki1JZFfCO6M-b&index=4)."
   ]
  },
  {
   "cell_type": "markdown",
   "id": "d7603cbb-c566-440f-b0a6-72dc013ea668",
   "metadata": {
    "slideshow": {
     "slide_type": "slide"
    },
    "tags": [],
    "user_expressions": []
   },
   "source": [
    "## Additional (Optional) Readings\n",
    "\n",
    "- [Can the criminal justice system’s artificial intelligence ever be truly fair?](https://massivesci.com/articles/machine-learning-compas-racism-policing-fairness/)"
   ]
  },
  {
   "cell_type": "markdown",
   "id": "8193ae14-9d56-4a83-b123-7fd492572031",
   "metadata": {
    "slideshow": {
     "slide_type": "fragment"
    },
    "tags": [],
    "user_expressions": []
   },
   "source": [
    "<img src=\"imgs/incarceration.png\" width=100%>\n",
    "\n",
    "[Source: Pew Research](https://www.pewresearch.org/fact-tank/2021/08/16/americas-incarceration-rate-lowest-since-1995/)"
   ]
  },
  {
   "cell_type": "markdown",
   "id": "63262d74-942e-4b16-97ba-0e67c3fee10b",
   "metadata": {
    "slideshow": {
     "slide_type": "fragment"
    },
    "user_expressions": []
   },
   "source": [
    "- It is illegal in the United States for judges to sentence based on race, color, religion, sex, age.\n",
    "\n",
    "- And yet..."
   ]
  },
  {
   "cell_type": "markdown",
   "id": "f40787cd-94fc-489d-8dfc-4bd181933c23",
   "metadata": {
    "slideshow": {
     "slide_type": "fragment"
    },
    "tags": [],
    "user_expressions": []
   },
   "source": [
    "<img src=\"imgs/lifetime-likelihood-of-imprisonment-by-race.png\" width=100%>\n",
    "\n",
    "[Source: The Sentencing Project](https://www.sentencingproject.org/criminal-justice-facts/)"
   ]
  }
 ],
 "metadata": {
  "celltoolbar": "Slideshow",
  "kernelspec": {
   "display_name": "Python 3 (ipykernel)",
   "language": "python",
   "name": "python3"
  },
  "language_info": {
   "codemirror_mode": {
    "name": "ipython",
    "version": 3
   },
   "file_extension": ".py",
   "mimetype": "text/x-python",
   "name": "python",
   "nbconvert_exporter": "python",
   "pygments_lexer": "ipython3",
   "version": "3.10.2"
  },
  "toc-showtags": false
 },
 "nbformat": 4,
 "nbformat_minor": 5
}
