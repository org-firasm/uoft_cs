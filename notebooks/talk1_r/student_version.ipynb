{
 "cells": [
  {
   "cell_type": "markdown",
   "id": "c776b581-2d54-4f9b-91ad-3055e02c5d55",
   "metadata": {
    "user_expressions": []
   },
   "source": [
    "# Classification using Machine Learning and the kNN algorithm\n"
   ]
  },
  {
   "cell_type": "markdown",
   "id": "0878b82f-3d9f-486c-a7de-4c4b19cdce70",
   "metadata": {
    "user_expressions": []
   },
   "source": [
    "Normally this would be a notebook populated with a version of the class notes that students could work through or fill in.\n",
    "\n",
    "For now, just a simple for loop to show that code in this notebook is executable in the browser!"
   ]
  },
  {
   "cell_type": "code",
   "execution_count": 2,
   "id": "229ad3cd-2b3c-4a6d-8c6a-9ec85cc8e6a7",
   "metadata": {
    "tags": []
   },
   "outputs": [
    {
     "name": "stdout",
     "output_type": "stream",
     "text": [
      "I have 1 attempts to make this for loop work!\n",
      "I have 2 attempts to make this for loop work!\n",
      "I have 3 attempts to make this for loop work!\n",
      "I have 4 attempts to make this for loop work!\n",
      "I have 5 attempts to make this for loop work!\n",
      "I have 6 attempts to make this for loop work!\n",
      "I have 7 attempts to make this for loop work!\n",
      "I have 8 attempts to make this for loop work!\n",
      "I have 9 attempts to make this for loop work!\n",
      "I have 10 attempts to make this for loop work!\n"
     ]
    }
   ],
   "source": [
    "for i in range(10):\n",
    "    \n",
    "    print(f\"I have {i+1} attempts to make this for loop work!\")"
   ]
  },
  {
   "cell_type": "code",
   "execution_count": null,
   "id": "b4c6ba20-2a69-4968-95e0-c6d548d5792c",
   "metadata": {},
   "outputs": [],
   "source": []
  }
 ],
 "metadata": {
  "kernelspec": {
   "display_name": "Python 3 (ipykernel)",
   "language": "python",
   "name": "python3"
  },
  "language_info": {
   "codemirror_mode": {
    "name": "ipython",
    "version": 3
   },
   "file_extension": ".py",
   "mimetype": "text/x-python",
   "name": "python",
   "nbconvert_exporter": "python",
   "pygments_lexer": "ipython3",
   "version": "3.10.2"
  }
 },
 "nbformat": 4,
 "nbformat_minor": 5
}
